{
 "cells": [
  {
   "cell_type": "markdown",
   "id": "a59bb3d7-e670-4271-ab33-754a673806c9",
   "metadata": {},
   "source": [
    "# Data Science Tools and Ecosystem"
   ]
  },
  {
   "cell_type": "markdown",
   "id": "a947321d-3df8-40bd-8585-285cde4724aa",
   "metadata": {},
   "source": [
    "In this notebook, Data Science Tools and Ecosystem are summarized."
   ]
  },
  {
   "cell_type": "markdown",
   "id": "65033349-9659-4073-86ce-c597b891698b",
   "metadata": {},
   "source": [
    "**Objectives:**\n",
    "\n",
    "* List popular languages for Data Science\n",
    "* List commonly used libraries used by Data Scientists\n",
    "* List Data Scienct Tools\n",
    "* Demostrate aritmethic operation in Python"
   ]
  },
  {
   "cell_type": "markdown",
   "id": "ccc08794-5b53-456b-9807-5dd5ced33391",
   "metadata": {},
   "source": [
    "Some of the popular languages that Data Scientists use are:\n",
    "\n",
    "1. R\n",
    "2. Python\n",
    "3. Scala"
   ]
  },
  {
   "cell_type": "markdown",
   "id": "ee08e7af-47c0-4e08-b619-5aae6a926a78",
   "metadata": {},
   "source": [
    "Some of the commonly used libraries used by Data Scientists include:\n",
    "\n",
    "1. NumPy\n",
    "2. Keras\n",
    "3. Pandas\n",
    "4. PyTorch\n",
    "5. SciPy"
   ]
  },
  {
   "cell_type": "markdown",
   "id": "af45c91f-8a78-4feb-9d9f-69f6d2c57c26",
   "metadata": {},
   "source": [
    "|Data Science Tools|\n",
    "|--------------------|\n",
    "|Jupyter Notebook|\n",
    "|Tableau|\n",
    "|Apache Spark|\n"
   ]
  },
  {
   "cell_type": "markdown",
   "id": "a1a191ad-c169-4faf-a461-018f588d2d0a",
   "metadata": {},
   "source": [
    "### Below are a few examples of evaluating arithmetic expressions in Python"
   ]
  },
  {
   "cell_type": "code",
   "execution_count": 2,
   "id": "e4ac9941-4e7c-4f3c-a6d7-a1f7711f071d",
   "metadata": {},
   "outputs": [
    {
     "data": {
      "text/plain": [
       "17"
      ]
     },
     "execution_count": 2,
     "metadata": {},
     "output_type": "execute_result"
    }
   ],
   "source": [
    "#This a simple arithmetic expression to mutiply then add integers\n",
    "\n",
    "(3*4)+5"
   ]
  },
  {
   "cell_type": "code",
   "execution_count": 4,
   "id": "22354a01-5a82-419f-b00d-381c65660cd7",
   "metadata": {},
   "outputs": [
    {
     "data": {
      "text/plain": [
       "3.3333333333333335"
      ]
     },
     "execution_count": 4,
     "metadata": {},
     "output_type": "execute_result"
    }
   ],
   "source": [
    "#This will convert 200 minutes to hours by diving by 60.\n",
    "\n",
    "200 / 60"
   ]
  },
  {
   "cell_type": "markdown",
   "id": "db833c08-9d2c-4b56-a684-7623ea8e0253",
   "metadata": {},
   "source": [
    "## Author\n",
    "Ali Ahsan Rupak"
   ]
  },
  {
   "cell_type": "code",
   "execution_count": null,
   "id": "c6b43cc5-15af-4e42-97b3-ef56e309bdf2",
   "metadata": {},
   "outputs": [],
   "source": []
  }
 ],
 "metadata": {
  "kernelspec": {
   "display_name": "Python 3 (ipykernel)",
   "language": "python",
   "name": "python3"
  },
  "language_info": {
   "codemirror_mode": {
    "name": "ipython",
    "version": 3
   },
   "file_extension": ".py",
   "mimetype": "text/x-python",
   "name": "python",
   "nbconvert_exporter": "python",
   "pygments_lexer": "ipython3",
   "version": "3.10.10"
  }
 },
 "nbformat": 4,
 "nbformat_minor": 5
}
